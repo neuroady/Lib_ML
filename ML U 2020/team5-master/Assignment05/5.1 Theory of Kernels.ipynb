{
 "cells": [
  {
   "cell_type": "markdown",
   "metadata": {},
   "source": []
  },
  {
   "cell_type": "markdown",
   "metadata": {},
   "source": [
    "# 5.1 Theory of Kernels\n",
    "\n",
    "Kernel methods are a way of implicitly mapping a data set to a higher dimension to increase the separability, e.g. for linear methods like PCA or support vector machines (SVM). In this exercise, we will review the fundamental properties of kernel functions and you have to decide for a list of functions whether they define a kernel or not.\n",
    "\n",
    "__Task 1__: Check the definition of a kernel function $k(x,y)$. How can you construct a counterexample to show that a symmetric function is __not__ a kernel?\n",
    "\n",
    "Hint: Look at the two-dimensional case and the corresponding Gram-Matrix:\n",
    "\n",
    "\\begin{equation} \n",
    "M(x,y)=\\begin{vmatrix} k( x,x) & k(x,y) \\\\\n",
    "k(y,x) & k(y,y) \\end{vmatrix}\n",
    "\\end{equation}\n",
    "\n",
    "Which requirement do the eigenvalues of $M$ need to satisfy, for $k(x,y)$ to be a kernel? Use the relationship between positive definiteness and the sign of the eigenvalues. "
   ]
  },
  {
   "cell_type": "markdown",
   "metadata": {},
   "source": [
    "\n",
    "* The Eigen values of M should be non-negative, because M is a symmetric matrix...and they happen to be positive-semi definite."
   ]
  },
  {
   "cell_type": "markdown",
   "metadata": {},
   "source": [
    "__Task 2__: Given two kernels $k_1(x,y)$ and $k_2(x,y)$. Under which operation defines the combination of the two a new kernel? To answer this question, you may look at Bishops Book: _Pattern Recognition and Machine Learning_; Chapter 6: Kernels.\n",
    "\n",
    "\n",
    "    [A]:\n",
    "Two kernels k1 and k2 can lead to a new kernal k' if we linearly combine (with non-negative constants) or take the inner product. \n",
    "\n",
    "zB:\n",
    "1. a.k1 + b.k2 = k'\n",
    "2. <k1, k2> = k'\n",
    "3. <k2, k1> = k\"\n",
    "\n",
    "where, a, b are non-negative real numbers\n",
    "and < , > represents an inner-product."
   ]
  },
  {
   "cell_type": "code",
   "execution_count": null,
   "metadata": {},
   "outputs": [],
   "source": []
  },
  {
   "cell_type": "markdown",
   "metadata": {},
   "source": [
    "__Questions 5.1:__\n",
    "\n",
    "Let $\\mathbf k_i: \\mathbb{ R}^N $ x $\\mathbb {R}^N \\rightarrow \\mathbb R$ for $i = 1..6, N \\geq 2$ be functions.\n",
    "Which of the six following function defines a valid kernel? Prove it or give a counterexample for $N=2$ to justify your answer. Use the answers to Task 1 and Task 2 to accomplish this task. You can use the list of basic kernel functions from the lecture without any further proof. \n",
    "\n",
    "\\begin{align}\n",
    "k_1(x,y) &= \\sum_{i=1}^N(x_i + y_i) \\\\\n",
    "k_2(x,y) &= (x^T y + c)^d \\text{ for } c>0, d \\in \\mathbb N \\\\\n",
    "k_3(x,y) &= \\frac{x^T y}{ ||x|| \\cdot ||y||} \\\\\n",
    "k_4(x,y) &= \\sqrt{||x-y||^2+1} \\\\\n",
    "k_5(x,y) &= \\prod_{i=1}^N \\left( h \\left( \\frac{x_i - c}{a} \\right) h \\left( \\frac{y_i - c}{a} \\right) \\right) \\text{ for } c \\in \\mathbb R, a \\in \\mathbb R \\setminus \\{0\\} \\text{ and } h(x) = cos(\\pi x) \\cdot exp\\left(-\\frac{x^2}{6}\\right)  \\\\\n",
    "k_6(x,y) &= \\sum_{i=1}^{N} cos(x_i) y_i\n",
    "\\end{align}"
   ]
  },
  {
   "cell_type": "markdown",
   "metadata": {},
   "source": [
    "<b>yes kernel:</b> <br>(are always positive, never negative) <br>\n",
    "    * k2 : [aka, polynomial kernel]\n",
    "    * k3 : angle between two vectors >= 0 [cosine similarity kernel]\n",
    "    * k4 : [aka, Multi-quadratic Kernel]\n",
    "    * k5 : [aka, wavelet kernel]\n",
    "        "
   ]
  },
  {
   "cell_type": "markdown",
   "metadata": {},
   "source": [
    "<b>no kernel:</b> <br>(Could not find over the inter-network)<br>\n",
    "    * k1:\n",
    "    * k6: cosine can be negative, and so can be yi, so, no!"
   ]
  },
  {
   "cell_type": "code",
   "execution_count": null,
   "metadata": {},
   "outputs": [],
   "source": []
  }
 ],
 "metadata": {
  "kernelspec": {
   "display_name": "Python 3",
   "language": "python",
   "name": "python3"
  },
  "language_info": {
   "codemirror_mode": {
    "name": "ipython",
    "version": 3
   },
   "file_extension": ".py",
   "mimetype": "text/x-python",
   "name": "python",
   "nbconvert_exporter": "python",
   "pygments_lexer": "ipython3",
   "version": "3.5.2"
  },
  "toc": {
   "base_numbering": 1,
   "nav_menu": {},
   "number_sections": true,
   "sideBar": true,
   "skip_h1_title": false,
   "title_cell": "Table of Contents",
   "title_sidebar": "Contents",
   "toc_cell": false,
   "toc_position": {},
   "toc_section_display": true,
   "toc_window_display": false
  },
  "varInspector": {
   "cols": {
    "lenName": 16,
    "lenType": 16,
    "lenVar": 40
   },
   "kernels_config": {
    "python": {
     "delete_cmd_postfix": "",
     "delete_cmd_prefix": "del ",
     "library": "var_list.py",
     "varRefreshCmd": "print(var_dic_list())"
    },
    "r": {
     "delete_cmd_postfix": ") ",
     "delete_cmd_prefix": "rm(",
     "library": "var_list.r",
     "varRefreshCmd": "cat(var_dic_list()) "
    }
   },
   "types_to_exclude": [
    "module",
    "function",
    "builtin_function_or_method",
    "instance",
    "_Feature"
   ],
   "window_display": false
  }
 },
 "nbformat": 4,
 "nbformat_minor": 1
}
