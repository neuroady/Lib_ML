{
 "cells": [
  {
   "cell_type": "markdown",
   "metadata": {},
   "source": [
    "## Jupyter Notebook basics\n",
    "\n",
    "  1. First steps\n",
    "  2. Run Order\n",
    "  3. Python\n",
    "  4. Shell commands\n",
    "  6. Load Python code\n",
    "  7. Plotting\n",
    "  8. Save, Terminate and further remarks"
   ]
  },
  {
   "cell_type": "markdown",
   "metadata": {},
   "source": [
    "1) **First steps**\n",
    "\n",
    "A notebook is organized in cells. There are two main types of cells: \n",
    "\n",
    "  1. code cells (see next cell)\n",
    "  2. markdown cells (see this cell)\n",
    "  \n",
    "To change the type of a cell, select `Cell->Cell Type->Code/Markdown`.\n",
    "\n",
    "Each cell can be run separately and in any order you want. To run a cell you need to activate it by for example clicking on it. A <font color='green'>**green frame** means a cell is editable and active</font>, <font color='blue'>a **blue frame** means a cell is active and/or running</font>. To edit markdown cells you need to double click.\n",
    "\n",
    "There are (at least) two ways to run the active cell.\n",
    "\n",
    "  * Click on `Cell->RunCell` in the menu above\n",
    "  * Press **`CTRL+Enter`** and the marked cell is executed\n",
    "\n",
    "The output of each cell is shown below the cell. The **number next to the cell on the left side** shows in which order the cells were run. \n",
    "\n",
    "`[*]` means that a cell is currently running. You can also verify this with the grey dot in the upper right corner, which shows the state of the Python kernel.\n",
    "\n",
    "*-> Run the next cell as often as you want *"
   ]
  },
  {
   "cell_type": "code",
   "execution_count": 1,
   "metadata": {
    "ExecuteTime": {
     "end_time": "2020-05-19T11:49:12.075555Z",
     "start_time": "2020-05-19T11:49:10.065633Z"
    },
    "scrolled": true
   },
   "outputs": [
    {
     "name": "stdout",
     "output_type": "stream",
     "text": [
      "Hello..\n",
      "..World!\n"
     ]
    }
   ],
   "source": [
    "import time\n",
    "print(\"Hello..\", )\n",
    "time.sleep(2)\n",
    "print(\"..World!\")"
   ]
  },
  {
   "cell_type": "markdown",
   "metadata": {},
   "source": [
    "Later it might be helpful to use **`ALT+Enter`**. This executes the active cell and creates a new one below.\n",
    "You can delete the active cell with `Edit->Delete Cells`\n",
    "\n",
    "*-> Create and remove some cells *"
   ]
  },
  {
   "cell_type": "markdown",
   "metadata": {},
   "source": [
    "This is a new cell that I just created. This is a Markdown cell, and the code cell, which was originally present here, has been purged."
   ]
  },
  {
   "cell_type": "markdown",
   "metadata": {},
   "source": [
    "2) **Run Order**\n",
    "\n",
    "You can execute the cells in any order you want an not necessarily from top to bottom. This means\n",
    "the order in which you run a cell affects your variables. Keep this in your mind as this might cause problems during development.\n",
    "\n",
    "**NOTE: In the end your notebook should be executed from top to bottom.**\n",
    "\n",
    "*-> Play around with the next two cells*"
   ]
  },
  {
   "cell_type": "code",
   "execution_count": 4,
   "metadata": {
    "ExecuteTime": {
     "end_time": "2020-05-19T11:50:08.563575Z",
     "start_time": "2020-05-19T11:50:08.559134Z"
    }
   },
   "outputs": [
    {
     "name": "stdout",
     "output_type": "stream",
     "text": [
      "Hello again\n"
     ]
    }
   ],
   "source": [
    "sayHello(a)\n",
    "a = \"there\""
   ]
  },
  {
   "cell_type": "code",
   "execution_count": 3,
   "metadata": {
    "ExecuteTime": {
     "end_time": "2020-05-19T11:50:05.666833Z",
     "start_time": "2020-05-19T11:50:05.661896Z"
    }
   },
   "outputs": [],
   "source": [
    "a = \"again\"\n",
    "def sayHello(a):\n",
    "    print(\"Hello %s\" % a)"
   ]
  },
  {
   "cell_type": "markdown",
   "metadata": {},
   "source": [
    "3) **Python**\n",
    "\n",
    "You can use regular python code and get some help:\n",
    "  * Press **`tab`** and you get code suggestions\n",
    "  * Type `?` (e.g. `numpy.mean?`) and the doctsrings are displayed in separate window\n",
    "  * With `help()` (e.g. `help(numpy)`) the docstring is displayed as output\n",
    "\n",
    "*-> Play around*"
   ]
  },
  {
   "cell_type": "code",
   "execution_count": 5,
   "metadata": {
    "ExecuteTime": {
     "end_time": "2020-05-19T11:50:29.486254Z",
     "start_time": "2020-05-19T11:50:29.473490Z"
    }
   },
   "outputs": [
    {
     "name": "stdout",
     "output_type": "stream",
     "text": [
      "Help on built-in function uniform:\n",
      "\n",
      "uniform(...) method of numpy.random.mtrand.RandomState instance\n",
      "    uniform(low=0.0, high=1.0, size=None)\n",
      "    \n",
      "    Draw samples from a uniform distribution.\n",
      "    \n",
      "    Samples are uniformly distributed over the half-open interval\n",
      "    ``[low, high)`` (includes low, but excludes high).  In other words,\n",
      "    any value within the given interval is equally likely to be drawn\n",
      "    by `uniform`.\n",
      "    \n",
      "    .. note::\n",
      "        New code should use the ``uniform`` method of a ``default_rng()``\n",
      "        instance instead; see `random-quick-start`.\n",
      "    \n",
      "    Parameters\n",
      "    ----------\n",
      "    low : float or array_like of floats, optional\n",
      "        Lower boundary of the output interval.  All values generated will be\n",
      "        greater than or equal to low.  The default value is 0.\n",
      "    high : float or array_like of floats\n",
      "        Upper boundary of the output interval.  All values generated will be\n",
      "        less than high.  The default value is 1.0.\n",
      "    size : int or tuple of ints, optional\n",
      "        Output shape.  If the given shape is, e.g., ``(m, n, k)``, then\n",
      "        ``m * n * k`` samples are drawn.  If size is ``None`` (default),\n",
      "        a single value is returned if ``low`` and ``high`` are both scalars.\n",
      "        Otherwise, ``np.broadcast(low, high).size`` samples are drawn.\n",
      "    \n",
      "    Returns\n",
      "    -------\n",
      "    out : ndarray or scalar\n",
      "        Drawn samples from the parameterized uniform distribution.\n",
      "    \n",
      "    See Also\n",
      "    --------\n",
      "    randint : Discrete uniform distribution, yielding integers.\n",
      "    random_integers : Discrete uniform distribution over the closed\n",
      "                      interval ``[low, high]``.\n",
      "    random_sample : Floats uniformly distributed over ``[0, 1)``.\n",
      "    random : Alias for `random_sample`.\n",
      "    rand : Convenience function that accepts dimensions as input, e.g.,\n",
      "           ``rand(2,2)`` would generate a 2-by-2 array of floats,\n",
      "           uniformly distributed over ``[0, 1)``.\n",
      "    Generator.uniform: which should be used for new code.\n",
      "    \n",
      "    Notes\n",
      "    -----\n",
      "    The probability density function of the uniform distribution is\n",
      "    \n",
      "    .. math:: p(x) = \\frac{1}{b - a}\n",
      "    \n",
      "    anywhere within the interval ``[a, b)``, and zero elsewhere.\n",
      "    \n",
      "    When ``high`` == ``low``, values of ``low`` will be returned.\n",
      "    If ``high`` < ``low``, the results are officially undefined\n",
      "    and may eventually raise an error, i.e. do not rely on this\n",
      "    function to behave when passed arguments satisfying that\n",
      "    inequality condition.\n",
      "    \n",
      "    Examples\n",
      "    --------\n",
      "    Draw samples from the distribution:\n",
      "    \n",
      "    >>> s = np.random.uniform(-1,0,1000)\n",
      "    \n",
      "    All values are within the given interval:\n",
      "    \n",
      "    >>> np.all(s >= -1)\n",
      "    True\n",
      "    >>> np.all(s < 0)\n",
      "    True\n",
      "    \n",
      "    Display the histogram of the samples, along with the\n",
      "    probability density function:\n",
      "    \n",
      "    >>> import matplotlib.pyplot as plt\n",
      "    >>> count, bins, ignored = plt.hist(s, 15, density=True)\n",
      "    >>> plt.plot(bins, np.ones_like(bins), linewidth=2, color='r')\n",
      "    >>> plt.show()\n",
      "\n"
     ]
    }
   ],
   "source": [
    "import numpy as np\n",
    "\n",
    "#?np.random\n",
    "\n",
    "help(np.random.uniform)"
   ]
  },
  {
   "cell_type": "markdown",
   "metadata": {},
   "source": [
    "4) **Shell commands**\n",
    "\n",
    "You can also use regular shell commands using `'!'` as a prefix (e.g. `!ls`, `!pwd`)\n",
    "\n",
    "-> Write `print(\"Hello World\")` to a file called 'hello.py' (e.g. using `echo TEXT > filename`)"
   ]
  },
  {
   "cell_type": "code",
   "execution_count": 6,
   "metadata": {
    "ExecuteTime": {
     "end_time": "2020-05-19T11:51:25.332715Z",
     "start_time": "2020-05-19T11:51:24.927164Z"
    }
   },
   "outputs": [
    {
     "name": "stdout",
     "output_type": "stream",
     "text": [
      "/home/ady/Desktop/ML U 20/01. Introduction/01_assignment\n",
      "\n",
      "\n",
      "\n",
      "Hello World\n"
     ]
    }
   ],
   "source": [
    "!echo 'print(\"Hello World\")' > hello.py\n",
    "\n",
    "!pwd\n",
    "\n",
    "print(\"\\n\\n\")\n",
    "\n",
    "!python3 hello.py"
   ]
  },
  {
   "cell_type": "markdown",
   "metadata": {},
   "source": [
    "6) **Load Python code**\n",
    "\n",
    "You can load a python script to a notebook so you don't have to write the same code each time you start a new tast\n",
    "\n",
    "*-> Execute the next cell twice*"
   ]
  },
  {
   "cell_type": "code",
   "execution_count": 8,
   "metadata": {
    "ExecuteTime": {
     "end_time": "2020-05-19T11:52:15.660988Z",
     "start_time": "2020-05-19T11:52:15.655861Z"
    }
   },
   "outputs": [
    {
     "name": "stdout",
     "output_type": "stream",
     "text": [
      "Hello World\n"
     ]
    }
   ],
   "source": [
    "# %load hello.py\n",
    "print(\"Hello World\")\n"
   ]
  },
  {
   "cell_type": "markdown",
   "metadata": {},
   "source": [
    "7) **Plotting using matplotlib**\n",
    "\n",
    "A big feature of using notebooks is, that you can directly display plots using matplotlib. \n",
    "\n",
    "**NOTE: In order to activate this feature you need to add the following *magic* line to your notebook**\n",
    "\n",
    "*-> Execute the next cells*"
   ]
  },
  {
   "cell_type": "code",
   "execution_count": 9,
   "metadata": {
    "ExecuteTime": {
     "end_time": "2020-05-19T11:52:34.997361Z",
     "start_time": "2020-05-19T11:52:34.642864Z"
    }
   },
   "outputs": [],
   "source": [
    "%matplotlib inline"
   ]
  },
  {
   "cell_type": "markdown",
   "metadata": {},
   "source": [
    "Example:"
   ]
  },
  {
   "cell_type": "code",
   "execution_count": 11,
   "metadata": {
    "ExecuteTime": {
     "end_time": "2020-05-19T11:52:59.287410Z",
     "start_time": "2020-05-19T11:52:58.994776Z"
    },
    "scrolled": true
   },
   "outputs": [
    {
     "name": "stdout",
     "output_type": "stream",
     "text": [
      "(100, 1)\n"
     ]
    },
    {
     "data": {
      "image/png": "[encoded data removed]",
      "text/plain": [
       "<Figure size 432x288 with 1 Axes>"
      ]
     },
     "metadata": {
      "needs_background": "light"
     },
     "output_type": "display_data"
    }
   ],
   "source": [
    "import matplotlib.pyplot as plt\n",
    "\n",
    "x = np.random.randn(100,1) \n",
    "y = np.random.randn(100,1)\n",
    "\n",
    "print(x.shape)\n",
    "\n",
    "c = np.random.uniform(size = (100,1))\n",
    "plt.scatter(x, y);"
   ]
  },
  {
   "cell_type": "markdown",
   "metadata": {},
   "source": [
    "8) **Save, Terminate and further Remarks**\n",
    "\n",
    "** Save and terminate **\n",
    "  * From time to time you should save your notebook (the title of this page tells you when you saved the last time).\n",
    "You can also revert the notebook to the last checkpoint.\n",
    " \n",
    "  * To terminate the notebook, you can either choose `File->Close And Halt`, terminate the notebook server in the shell\n",
    "(hitting `CTRL+C` twice) or just close the tab \n",
    "\n",
    "  * In the exercise we will ask you to submit code. You can export this notebook with `File -> Download as -> Python (.py)`. This will you give you a python script with cells from top to bottom (markdown cells will only be comments); this won't work for this notebook since we wanted to demonstrate the issues you'll get when not executing top to bottom.\n",
    "\n",
    "** Notes **\n",
    "  * In case your notebook freezes or stops reacting you can *interrupt* the kernel (`Kernel->interrupt`) and it will stop executing the current cell. If you want to rerun your notebook (clear all output and delete all variables) you can select `Kernel-> Restart and Run All`\n",
    "\n",
    "\n",
    "  * Here is a list for further reading, tips, tutorials and examples for jupyter notebooks:\n",
    "    * Beginners guide:\n",
    "    https://jupyter-notebook-beginner-guide.readthedocs.org/en/latest/what_is_jupyter.html\n",
    "\n",
    "    * Scikit-learn Jupyter documentation: \n",
    "    https://github.com/glouppe/tutorials-scikit-learn/blob/master/1.%20An%20introduction%20to%20Machine%20Learning%20with%20Scikit-Learn.ipynb\n"
   ]
  }
 ],
 "metadata": {
  "celltoolbar": "Raw Cell Format",
  "kernelspec": {
   "display_name": "Python 3",
   "language": "python",
   "name": "python3"
  },
  "language_info": {
   "codemirror_mode": {
    "name": "ipython",
    "version": 3
   },
   "file_extension": ".py",
   "mimetype": "text/x-python",
   "name": "python",
   "nbconvert_exporter": "python",
   "pygments_lexer": "ipython3",
   "version": "3.5.2"
  },
  "toc": {
   "base_numbering": 1,
   "nav_menu": {},
   "number_sections": true,
   "sideBar": true,
   "skip_h1_title": false,
   "title_cell": "Table of Contents",
   "title_sidebar": "Contents",
   "toc_cell": false,
   "toc_position": {},
   "toc_section_display": true,
   "toc_window_display": false
  },
  "varInspector": {
   "cols": {
    "lenName": 16,
    "lenType": 16,
    "lenVar": 40
   },
   "kernels_config": {
    "python": {
     "delete_cmd_postfix": "",
     "delete_cmd_prefix": "del ",
     "library": "var_list.py",
     "varRefreshCmd": "print(var_dic_list())"
    },
    "r": {
     "delete_cmd_postfix": ") ",
     "delete_cmd_prefix": "rm(",
     "library": "var_list.r",
     "varRefreshCmd": "cat(var_dic_list()) "
    }
   },
   "types_to_exclude": [
    "module",
    "function",
    "builtin_function_or_method",
    "instance",
    "_Feature"
   ],
   "window_display": false
  }
 },
 "nbformat": 4,
 "nbformat_minor": 1
}
